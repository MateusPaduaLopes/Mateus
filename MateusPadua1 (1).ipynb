{
 "cells": [
  {
   "cell_type": "markdown",
   "id": "383cadf2-70a4-485e-bd8b-721dd34f69b2",
   "metadata": {},
   "source": [
    "# My Jupyter Notebook"
   ]
  },
  {
   "cell_type": "markdown",
   "id": "44a05a4a-19d1-467b-8cbf-0f058945bf99",
   "metadata": {},
   "source": [
    "This is my final project for the Data Science Course"
   ]
  },
  {
   "cell_type": "markdown",
   "id": "7463d321-2eaf-4e22-900e-8d69c2de2154",
   "metadata": {},
   "source": [
    "List of Data Science Languages:\n",
    "Python\n",
    "R  \n",
    "SQL  \n",
    "Java  \n",
    "JavaScript  \n",
    "Matlab  \n",
    "Scala  \n",
    "Julia  "
   ]
  },
  {
   "cell_type": "markdown",
   "id": "da248d47-6b80-46f2-a525-9962e524610a",
   "metadata": {},
   "source": [
    "List of data Libraries:  \n",
    "Apache Spark  \n",
    "Pandas  \n",
    "Dask  \n",
    "SciPy  \n",
    "NumPy"
   ]
  },
  {
   "cell_type": "markdown",
   "id": "5cd732ac-83ed-4536-abd2-be21a6cce538",
   "metadata": {},
   "source": [
    "Data Science Tools:  \n",
    "    Apache Spark  \n",
    "    Matlab  \n",
    "    BigML  \n",
    "    Google Analytics"
   ]
  },
  {
   "cell_type": "markdown",
   "id": "4960a311-fca3-474e-8fd5-8fc65f6f7813",
   "metadata": {},
   "source": [
    "An arithmetic expression is an expression built up using numbers, arithmetic operators (such as +,, -, / and) and parentheses, “ (” and “)”. (3 + 4) — the sum of numbers is an arithmetic expression. (7 – 3) — the difference of two numbers is an arithmetic expression."
   ]
  },
  {
   "cell_type": "code",
   "execution_count": 3,
   "id": "b32a3900-eed5-4742-bb36-5dc70589fcc8",
   "metadata": {},
   "outputs": [
    {
     "name": "stdout",
     "output_type": "stream",
     "text": [
      "14\n"
     ]
    }
   ],
   "source": [
    "print((3+4)*2)"
   ]
  },
  {
   "cell_type": "code",
   "execution_count": 11,
   "id": "6a2199c8-32b5-433a-bda4-a50e70c91698",
   "metadata": {},
   "outputs": [
    {
     "name": "stdout",
     "output_type": "stream",
     "text": [
      "120\n"
     ]
    }
   ],
   "source": [
    "print(2*60)"
   ]
  },
  {
   "cell_type": "markdown",
   "id": "2e8cd2e9-08c8-407b-94b3-be9057a70548",
   "metadata": {},
   "source": [
    "Data science tools are application software or frameworks that help data science professionals to perform various data science tasks like analysis, cleansing, visualization, mining, reporting, and filtering of data."
   ]
  },
  {
   "cell_type": "code",
   "execution_count": null,
   "id": "5418b4ec-d305-4be1-bb56-5766d68bb4a4",
   "metadata": {},
   "outputs": [],
   "source": [
    "MATEUS PADUA LOPES"
   ]
  }
 ],
 "metadata": {
  "kernelspec": {
   "display_name": "Python",
   "language": "python",
   "name": "conda-env-python-py"
  },
  "language_info": {
   "codemirror_mode": {
    "name": "ipython",
    "version": 3
   },
   "file_extension": ".py",
   "mimetype": "text/x-python",
   "name": "python",
   "nbconvert_exporter": "python",
   "pygments_lexer": "ipython3",
   "version": "3.7.12"
  }
 },
 "nbformat": 4,
 "nbformat_minor": 5
}
